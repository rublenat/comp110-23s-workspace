{
 "cells": [
  {
   "attachments": {},
   "cell_type": "markdown",
   "metadata": {},
   "source": [
    "## Head function"
   ]
  },
  {
   "cell_type": "code",
   "execution_count": null,
   "metadata": {},
   "outputs": [],
   "source": [
    "def head(table: dict[str, list[str]], n: int) -> dict[str, list[str]]:\n",
    "    \"\"\"Produce a new column-based table with only first N number of rows (second parameter).\"\"\"\n",
    "    new_dictionary: dict[str, list[str]] = {}\n",
    "    \n",
    "    for key in table:\n",
    "        values: list[str] = []\n",
    "        for elements in table[key]:\n",
    "            if len(values) < n:\n",
    "                values.append(elements)\n",
    "        new_dictionary[key] = values\n",
    "    \n",
    "    return new_dictionary"
   ]
  },
  {
   "attachments": {},
   "cell_type": "markdown",
   "metadata": {},
   "source": [
    "## Select Function"
   ]
  },
  {
   "cell_type": "code",
   "execution_count": 41,
   "metadata": {},
   "outputs": [],
   "source": [
    "def select(table: dict[str, list[str]], column_interest: list[str]) -> dict[str, list[str]]:\n",
    "    \"\"\"Produce new table with only selected columns.\"\"\"\n",
    "    new_dictionary: dict[str, list[str]] = {}\n",
    "\n",
    "    for column in table:\n",
    "        idx: int = 0\n",
    "        while idx < len(column_interest):\n",
    "            if column == column_interest[idx]:\n",
    "                new_dictionary[column] = table[column]\n",
    "            idx += 1\n",
    "    \n",
    "    return new_dictionary"
   ]
  },
  {
   "cell_type": "code",
   "execution_count": 40,
   "metadata": {},
   "outputs": [
    {
     "name": "stdout",
     "output_type": "stream",
     "text": [
      "{'a': ['b', 'c'], 'd': ['e', 'f']}\n"
     ]
    }
   ],
   "source": [
    "table = {'a': ['b', 'c'], 'd': ['e', 'f'], 'g': ['h', 'i']}\n",
    "\n",
    "select(table, ['a', 'd'])"
   ]
  },
  {
   "attachments": {},
   "cell_type": "markdown",
   "metadata": {},
   "source": [
    "## Concat function"
   ]
  },
  {
   "cell_type": "code",
   "execution_count": 2,
   "metadata": {},
   "outputs": [],
   "source": [
    "def concat(table1: dict[str, list[str]], table2: dict[str, list[str]]) -> dict[str, list[str]]:\n",
    "    \"\"\"Produce a new column based tbale with two column based tables combined.\"\"\"\n",
    "    new_dictionary: dict[str, list[str]] = {}\n",
    "\n",
    "    for columns in table1:\n",
    "        new_dictionary[columns] = table1[columns]\n",
    "    \n",
    "    for columns in table2:\n",
    "        if columns in new_dictionary:\n",
    "            new_dictionary[columns] += table2[columns]\n",
    "        else:\n",
    "            new_dictionary[columns] = table2[columns]\n",
    "    \n",
    "    return new_dictionary\n"
   ]
  },
  {
   "cell_type": "code",
   "execution_count": 4,
   "metadata": {},
   "outputs": [
    {
     "data": {
      "text/plain": [
       "{'a': ['a', 'a', 'c', 'c', 'd', 'd'], 'b': ['b', 'b'], 'c': ['b', 'b']}"
      ]
     },
     "execution_count": 4,
     "metadata": {},
     "output_type": "execute_result"
    }
   ],
   "source": [
    "d = {'a':['a', 'a'], 'b': ['b', 'b']}\n",
    "b = {'a':['c', 'c', 'd', 'd'], 'c': ['b', 'b']}\n",
    "\n",
    "concat(d, b)"
   ]
  },
  {
   "attachments": {},
   "cell_type": "markdown",
   "metadata": {},
   "source": [
    "## Count function"
   ]
  },
  {
   "cell_type": "code",
   "execution_count": null,
   "metadata": {},
   "outputs": [],
   "source": [
    "def count(input: list[str]) -> dict[str, int]:\n",
    "    \"\"\"Given a list[str], counts the number of times each element in the list is present in the list.\"\"\"\n",
    "    new_dictionary: dict[str, int] = {}\n",
    "\n",
    "    for item in input:\n",
    "        if item in new_dictionary:\n",
    "            new_dictionary[item] += 1\n",
    "        else:\n",
    "            new_dictionary[item] = 1\n",
    "    \n",
    "    return new_dictionary"
   ]
  }
 ],
 "metadata": {
  "kernelspec": {
   "display_name": "Python 3",
   "language": "python",
   "name": "python3"
  },
  "language_info": {
   "codemirror_mode": {
    "name": "ipython",
    "version": 3
   },
   "file_extension": ".py",
   "mimetype": "text/x-python",
   "name": "python",
   "nbconvert_exporter": "python",
   "pygments_lexer": "ipython3",
   "version": "3.11.1"
  },
  "orig_nbformat": 4
 },
 "nbformat": 4,
 "nbformat_minor": 2
}
