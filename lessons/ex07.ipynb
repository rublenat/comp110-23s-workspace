{
 "cells": [
  {
   "attachments": {},
   "cell_type": "markdown",
   "metadata": {},
   "source": [
    "# Notebook for EX07"
   ]
  },
  {
   "attachments": {},
   "cell_type": "markdown",
   "metadata": {},
   "source": [
    "# Favortie color function"
   ]
  },
  {
   "cell_type": "code",
   "execution_count": 21,
   "metadata": {},
   "outputs": [
    {
     "name": "stdout",
     "output_type": "stream",
     "text": [
      "yellow\n"
     ]
    }
   ],
   "source": [
    "def favorite_color(input: dict[str, str]) -> str:\n",
    "    \"\"\"Returns color that appears the most frequently.\"\"\"\n",
    "    new_dict: dict[str, int] = {}\n",
    "    colors: list[str] = []\n",
    "    number_per_color: list[int] = []\n",
    "    idx: int = 0\n",
    "    max: str = \"\"\n",
    "\n",
    "    \n",
    "    for key in input:\n",
    "        colors.append(input[key])\n",
    "    \n",
    "    while idx < len(colors):\n",
    "        specific_color: str = colors[idx]\n",
    "        idx2: int = 0\n",
    "        count: int = 0\n",
    "        while idx2 < len(colors):\n",
    "            if colors[idx2] == specific_color:\n",
    "                count += 1\n",
    "            idx2 += 1\n",
    "        number_per_color.append(count)\n",
    "        idx += 1\n",
    "    \n",
    "    idx = 0\n",
    "    while idx < len(colors):\n",
    "        new_key: str = colors[idx]\n",
    "        new_value: str = number_per_color[idx]\n",
    "        new_dict[new_key] = new_value\n",
    "        idx += 1\n",
    "    \n",
    "    max = colors[0]\n",
    "    for key in new_dict:\n",
    "        for keys in new_dict:\n",
    "            if new_dict[key] < new_dict[keys]:\n",
    "                max = keys\n",
    "\n",
    "    return max\n",
    "        \n",
    "print(favorite_color({\"Marc\": \"yellow\", \"Ezri\": \"blue\", \"nat\": 'blue', 's': 'yellow'}))"
   ]
  },
  {
   "attachments": {},
   "cell_type": "markdown",
   "metadata": {},
   "source": [
    "## Count function"
   ]
  },
  {
   "cell_type": "code",
   "execution_count": 3,
   "metadata": {},
   "outputs": [
    {
     "name": "stdout",
     "output_type": "stream",
     "text": [
      "{'h': 3, 'b': 1, 'c': 1}\n"
     ]
    }
   ],
   "source": [
    "def count(input: list[str]) -> dict[str, int]:\n",
    "    \"\"\"Counts the number of times each value appears in input list.\"\"\"\n",
    "    new_dict: dict[str, int] = {}\n",
    "    idx: int = 0\n",
    "\n",
    "    while idx < len(input):\n",
    "        if input[idx] in new_dict:\n",
    "            new_dict[input[idx]] += 1\n",
    "        else:\n",
    "            new_dict[input[idx]] = 1\n",
    "        idx += 1\n",
    "\n",
    "    return new_dict\n",
    "        \n",
    "\n",
    "print(count(['h', 'h', 'b', 'c', 'h']))"
   ]
  }
 ],
 "metadata": {
  "kernelspec": {
   "display_name": "Python 3",
   "language": "python",
   "name": "python3"
  },
  "language_info": {
   "codemirror_mode": {
    "name": "ipython",
    "version": 3
   },
   "file_extension": ".py",
   "mimetype": "text/x-python",
   "name": "python",
   "nbconvert_exporter": "python",
   "pygments_lexer": "ipython3",
   "version": "3.11.1"
  },
  "orig_nbformat": 4,
  "vscode": {
   "interpreter": {
    "hash": "aee8b7b246df8f9039afb4144a1f6fd8d2ca17a180786b69acc140d282b71a49"
   }
  }
 },
 "nbformat": 4,
 "nbformat_minor": 2
}
